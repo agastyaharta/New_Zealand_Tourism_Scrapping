{
 "cells": [
  {
   "cell_type": "markdown",
   "id": "482080c5",
   "metadata": {},
   "source": [
    "## Imports"
   ]
  },
  {
   "cell_type": "code",
   "execution_count": null,
   "id": "d59db363-b050-4839-b620-897248d7188d",
   "metadata": {},
   "outputs": [],
   "source": [
    "# FOR DATA PROCESSING:\n",
    "import pandas as pd\n",
    "import numpy as np\n",
    "\n",
    "# FOR MEASURING COMPUTATION TIME, CREATING FIXED DELAYS:\n",
    "import time\n",
    "\n",
    "# FOR APPLYING BEAUTIFULSOUP\n",
    "from bs4 import BeautifulSoup\n",
    "\n",
    "# FOR APPLYING SELENIUM:\n",
    "import selenium # Python Selenium\n",
    "from selenium import webdriver # for specifying webdriver\n",
    "\n",
    "from webdriver_manager.firefox import GeckoDriverManager # geckodriver for automatized access to Firefox\n",
    "\n",
    "from selenium.webdriver.chrome.service import Service # needed since Selenium 4.10.0 see: https://github.com/SeleniumHQ/selenium/commit/9f5801c82fb3be3d5850707c46c3f8176e3ccd8e\n",
    "\n",
    "from selenium.webdriver.support.ui import WebDriverWait # this three enable waiting until sth is displayed on website\n",
    "from selenium.webdriver.support import expected_conditions as EC # for checking visibility of an element\n",
    "from selenium.webdriver.common.by import By # for checking element visibility by XPath\n",
    "\n",
    "from selenium.common.exceptions import TimeoutException\n",
    "\n",
    "\n",
    "# FOR SAVING DATA:\n",
    "import pickle # pickle format of saved output\n",
    "\n",
    "# FOR GET TODAYS DATE\n",
    "from datetime import datetime, timedelta\n",
    "\n",
    "from urllib.parse import urljoin\n",
    "\n",
    "def save_object(obj, filename): #  function defined for saving Python objects\n",
    "    with open(filename, 'wb') as output: # overwrites any existing file\n",
    "        pickle.dump(obj, output, pickle.HIGHEST_PROTOCOL)\n",
    "        \n",
    "firefoxpath = GeckoDriverManager().install(); print(firefoxpath)"
   ]
  },
  {
   "cell_type": "markdown",
   "id": "2d57fd9a",
   "metadata": {},
   "source": [
    "## Accessing Website"
   ]
  },
  {
   "cell_type": "code",
   "execution_count": null,
   "id": "e5121fe1-5bcc-42dd-b787-1f20b4c5c25f",
   "metadata": {},
   "outputs": [],
   "source": [
    "website = \"https://www.newzealand.com/int/\"\n",
    "\n",
    "service_firefox = Service(executable_path = firefoxpath) \n",
    "options_firefox = webdriver.FirefoxOptions()\n",
    "driver_firefox = webdriver.Firefox(service = service_firefox, options = options_firefox) # opens Firefox\n",
    "\n",
    "driver_firefox.maximize_window() # maximizes browser's window\n",
    "driver_firefox.get(website) # opens a website"
   ]
  },
  {
   "cell_type": "markdown",
   "id": "d1d0e887",
   "metadata": {},
   "source": [
    "## Selenium Automation"
   ]
  },
  {
   "cell_type": "code",
   "execution_count": null,
   "id": "b47e153d",
   "metadata": {},
   "outputs": [],
   "source": [
    "website_search = \"https://www.newzealand.com/int/\"\n",
    "driver_firefox.get(website_search) # opens a website\n",
    "\n",
    "start = time.time()\n",
    "time.sleep(np.random.chisquare(3)+5) # + wait random time drawn from specific (strongly right-side-skewed) distribution to better imitate human behavior\n",
    "\n",
    "target_button_xpath = \"//i[@class='o-icon js-icon search-icon']//*[@class='icon search']\"\n",
    "target_button = WebDriverWait(driver_firefox, 4).until(\n",
    "    EC.element_to_be_clickable((By.XPATH, target_button_xpath))\n",
    ")\n",
    "target_button.click()\n",
    "\n",
    "# Collecting links for cities\n",
    "\n",
    "html = driver_firefox.page_source\n",
    "soup = BeautifulSoup(html, \"html.parser\")\n",
    "\n",
    "# Find all group labels\n",
    "group_labels = soup.find_all(\"p\", class_=\"popular-searches__group-label\")\n",
    "\n",
    "target_label = None\n",
    "for label in group_labels:\n",
    "    if \"Popular places to visit\" in label.text:\n",
    "        target_label = label\n",
    "        break\n",
    "\n",
    "popular_links = []\n",
    "if target_label:\n",
    "    city_list = target_label.find_next_sibling(\"ul\", class_=\"popular-searches__group-items\")\n",
    "    for link in city_list.find_all(\"a\", class_=\"popular-searches__group-item\"):\n",
    "        city_name = link.get_text(strip=True)\n",
    "        href = urljoin(website_search, link[\"href\"])\n",
    "        popular_links.append((city_name, href))\n",
    "\n",
    "\n",
    "# Output of scrapped cities\n",
    "try: # Error handling\n",
    "    print(\"Popular Places to Visit in New Zealand:\")\n",
    "    for city, url in popular_links:\n",
    "        print(f\"{city}: {url}\")\n",
    "except Exception as e: # Error handling\n",
    "    print(\"Cannot retrieve data\")"
   ]
  },
  {
   "cell_type": "code",
   "execution_count": null,
   "id": "7f509474",
   "metadata": {},
   "outputs": [],
   "source": [
    "city_tab_handles = {}\n",
    "\n",
    "for city, url in popular_links:\n",
    "    # Open new tab\n",
    "    driver_firefox.execute_script(\"window.open();\")\n",
    "    driver_firefox.switch_to.window(driver_firefox.window_handles[-1])\n",
    "    \n",
    "    # Load city URL\n",
    "    driver_firefox.get(url)\n",
    "    time.sleep(5)\n",
    "\n",
    "    # Store tab handle\n",
    "    handle_key = city.lower().replace(\" \", \"_\").replace(\"/\", \"_\").replace(\"ō\", \"o\")\n",
    "    city_tab_handles[handle_key] = driver_firefox.current_window_handle"
   ]
  },
  {
   "cell_type": "markdown",
   "id": "e3c56da7",
   "metadata": {},
   "source": [
    "## Auckland"
   ]
  },
  {
   "cell_type": "code",
   "execution_count": null,
   "id": "adc3d731",
   "metadata": {},
   "outputs": [],
   "source": [
    "driver_firefox.switch_to.window(city_tab_handles[\"auckland\"])\n",
    "\n",
    "time.sleep(5)\n",
    "# Click on the \"Activities\" filter\n",
    "try:\n",
    "    filter_xpath = \"//span[contains(text(),'Activities')]\"\n",
    "    filter_button = WebDriverWait(driver_firefox, 4).until(\n",
    "        EC.element_to_be_clickable((By.XPATH, filter_xpath))\n",
    "    )\n",
    "    filter_button.click()\n",
    "    print(\"Activities' filter clicked on Auckland page.\")\n",
    "except Exception as e:\n",
    "    print(f\"Failed to click 'Activities': {e}\")"
   ]
  },
  {
   "cell_type": "code",
   "execution_count": null,
   "id": "779f9294",
   "metadata": {},
   "outputs": [],
   "source": [
    "time.sleep(np.random.chisquare(3)+5)\n",
    "click = 0 \n",
    "max_clicks = 9\n",
    "while click < max_clicks:\n",
    "    try:\n",
    "        load_more_xpath = '//*[@id=\"search-results\"]/div[2]/div/div[3]/button'\n",
    "        load_more_button = WebDriverWait(driver_firefox, 5).until(\n",
    "            EC.element_to_be_clickable((By.XPATH, load_more_xpath))\n",
    "        )\n",
    "\n",
    "        # Click the button\n",
    "        load_more_button.click()\n",
    "        click += 1\n",
    "        print(\"Loading more...\")\n",
    "\n",
    "        # Optional: wait for new content to load\n",
    "        time.sleep(5)\n",
    "\n",
    "    except TimeoutException:\n",
    "        print(\"All activities loaded (no more button).\")\n",
    "        break\n"
   ]
  },
  {
   "cell_type": "markdown",
   "id": "e64c3212",
   "metadata": {},
   "source": [
    "## BeautifulSoup Static Scraping"
   ]
  },
  {
   "cell_type": "code",
   "execution_count": null,
   "id": "867c9e24",
   "metadata": {},
   "outputs": [],
   "source": [
    "html = driver_firefox.page_source\n",
    "soup = BeautifulSoup(html, \"html.parser\")\n",
    "\n",
    "# Step 1: Find the result container\n",
    "results_container = soup.find(\"div\", class_=\"search-results__results\")\n",
    "activity_blocks = results_container.find_all(\"div\", class_=\"results__wrapper\") if results_container else []\n",
    "\n",
    "# Step 2: Prepare lists\n",
    "titles = []\n",
    "links = []\n",
    "descriptions = []\n",
    "images = []\n",
    "\n",
    "# Step 3: Loop through each block\n",
    "for activity in activity_blocks:\n",
    "    try:\n",
    "        # Title and Link\n",
    "        title_tag = activity.select_one(\"h4.results__title a\")\n",
    "        title = title_tag.get_text(strip=True) if title_tag else \"\"\n",
    "        link = title_tag[\"href\"] if title_tag and \"href\" in title_tag.attrs else \"\"\n",
    "\n",
    "        # Description\n",
    "        desc_tag = activity.select_one(\"p.results__description\")\n",
    "        description = desc_tag.get_text(strip=True) if desc_tag else \"\"\n",
    "\n",
    "        # Image\n",
    "        img_tag = activity.select_one(\"figure.results__photo img\")\n",
    "        img_url = img_tag[\"src\"] if img_tag and \"src\" in img_tag.attrs else \"\"\n",
    "\n",
    "        # Append\n",
    "        titles.append(title)\n",
    "        links.append(link)\n",
    "        descriptions.append(description)\n",
    "        images.append(img_url)\n",
    "\n",
    "    except Exception as e:\n",
    "        print(f\"Skipping block due to: {e}\")\n",
    "        continue\n"
   ]
  },
  {
   "cell_type": "code",
   "execution_count": null,
   "id": "55a4c5c3",
   "metadata": {},
   "outputs": [],
   "source": [
    "print(len(titles))\n",
    "print(len(links))\n",
    "print(len(descriptions))\n",
    "print(len(images))"
   ]
  },
  {
   "cell_type": "code",
   "execution_count": null,
   "id": "b6d9233f",
   "metadata": {},
   "outputs": [],
   "source": [
    "descriptions[0:3]"
   ]
  },
  {
   "cell_type": "code",
   "execution_count": null,
   "id": "1366e57f",
   "metadata": {},
   "outputs": [],
   "source": [
    "links[0:3]"
   ]
  },
  {
   "cell_type": "markdown",
   "id": "492d07f6",
   "metadata": {},
   "source": [
    "## Dataframe"
   ]
  },
  {
   "cell_type": "code",
   "execution_count": null,
   "id": "483b99d5",
   "metadata": {},
   "outputs": [],
   "source": [
    "df = pd.DataFrame({\n",
    "    \"Events\": artist_names,\n",
    "    \"Venue\": venues,\n",
    "    \"Location\": locations,x\n",
    "    \"Event Dates\" : eventdates,\n",
    "    \"Time of Event\": time_events,\n",
    "    \"Availability\": statuses\n",
    "})"
   ]
  },
  {
   "cell_type": "code",
   "execution_count": null,
   "id": "8e5ae065",
   "metadata": {},
   "outputs": [],
   "source": [
    "df"
   ]
  },
  {
   "cell_type": "code",
   "execution_count": null,
   "id": "eabfdf0e",
   "metadata": {},
   "outputs": [],
   "source": [
    "driver_firefox.close() # this closes the webdriver"
   ]
  },
  {
   "cell_type": "markdown",
   "id": "2525ce3a",
   "metadata": {},
   "source": [
    "## Export to Pickle"
   ]
  },
  {
   "cell_type": "code",
   "execution_count": null,
   "id": "440082b7",
   "metadata": {},
   "outputs": [],
   "source": [
    "\n",
    "##"
   ]
  }
 ],
 "metadata": {
  "kernelspec": {
   "display_name": "Python 3",
   "language": "python",
   "name": "python3"
  },
  "language_info": {
   "codemirror_mode": {
    "name": "ipython",
    "version": 3
   },
   "file_extension": ".py",
   "mimetype": "text/x-python",
   "name": "python",
   "nbconvert_exporter": "python",
   "pygments_lexer": "ipython3",
   "version": "3.12.7"
  }
 },
 "nbformat": 4,
 "nbformat_minor": 5
}
